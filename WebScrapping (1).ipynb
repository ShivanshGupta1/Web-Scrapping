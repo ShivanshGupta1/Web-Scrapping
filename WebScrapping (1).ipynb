{
 "cells": [
  {
   "cell_type": "code",
   "execution_count": 37,
   "metadata": {},
   "outputs": [
    {
     "name": "stdout",
     "output_type": "stream",
     "text": [
      "Product Names:  ['APPLE iPhone 11 (Black, 64 GB)', 'APPLE iPhone SE (Black, 64 GB)', 'APPLE iPhone SE (White, 64 GB)', 'Apple iPhone XR (White, 128 GB) (Includes EarPods, Power Adapter)', 'APPLE iPhone 11 (Red, 64 GB)', 'APPLE iPhone 12 (Blue, 64 GB)', 'Apple iPhone XR (Black, 128 GB) (Includes EarPods, Power Adapter)', 'APPLE iPhone SE (Black, 128 GB)', 'APPLE iPhone SE (Red, 64 GB)', 'APPLE iPhone SE (Red, 128 GB)', 'Apple iPhone XR ((PRODUCT)RED, 64 GB) (Includes EarPods, Power Adapter)', 'APPLE iPhone XR (Black, 64 GB)', 'APPLE iPhone SE (White, 128 GB)', 'Apple iPhone XR (White, 64 GB) (Includes EarPods, Power Adapter)', 'APPLE iPhone 12 Mini (White, 128 GB)', 'APPLE iPhone 12 (White, 128 GB)', 'Apple iPhone XR (Blue, 64 GB) (Includes EarPods, Power Adapter)', 'APPLE iPhone 7 Plus (Black, 32 GB)', 'APPLE iPhone 12 Mini (Purple, 64 GB)', 'APPLE iPhone 12 Pro (Pacific Blue, 256 GB)', 'APPLE iPhone 12 Mini (Blue, 128 GB)', 'APPLE iPhone 12 (Purple, 64 GB)', 'APPLE iPhone 12 Mini (Black, 128 GB)', 'APPLE iPhone 12 (Red, 128 GB)']\n",
      "Price:  ['₹49,999', '₹31,999', '₹31,999', '₹46,999', '₹49,999', '₹77,900', '₹46,999', '₹34,999', '₹31,999', '₹34,999', '₹41,999', '₹41,999', '₹34,999', '₹41,999', '₹72,900', '₹82,900', '₹41,999', '₹36,999', '₹69,900', '₹1,25,900', '₹72,900', '₹79,900', '₹72,900', '₹82,900']\n",
      "Ratings:  ['4.6', '4.5', '4.5', '4.6', '4.6', '4.6', '4.6', '4.5', '4.5', '4.5', '4.6', '4.6', '4.5', '4.6', '4.5', '4.6', '4.6', '4.5', '4.5', '4.6', '4.5', '4.6', '4.5', '4.6']\n"
     ]
    }
   ],
   "source": [
    "\n",
    "\n",
    "\n",
    "from bs4 import BeautifulSoup as bs #to parse the info from the website from urllib.request \n",
    "from urllib.request import urlopen as u # to go info from the website \n",
    "#Web Scarpping - to go to websites and scrap info from there\n",
    "\n",
    "url = \"https://www.flipkart.com/search?q=i%20phone%2012&otracker=search&otracker1=search&marketplace=FLIPKART&as-show=on&as=off\" \n",
    "info = u(url) \n",
    "page = info.read() \n",
    "info.close() \n",
    "page_soup = bs(page,\"html.parser\") \n",
    "containers = page_soup.findAll(\"div\",{\"class\":\"_1AtVbE col-12-12\"})\n",
    "containers.pop(0) \n",
    "containers.pop(0) \n",
    "productNames = []\n",
    "price = []\n",
    "ratings = []\n",
    "\n",
    "for i in range(24): \n",
    "    productNames.append(containers[i].div.img[\"alt\"])\n",
    "    egPrice = containers[i].findAll(\"div\",{\"class\":\"_30jeq3 _1_WHN1\"})\n",
    "    egRating = containers[i].findAll(\"div\",{\"class\":\"_3LWZlK\"})\n",
    "    price.append(egPrice[0].text)\n",
    "    ratings.append(egRating[0].text)\n",
    "print(\"Product Names: \",productNames) \n",
    "print(\"Price: \",price)\n",
    "print(\"Ratings: \",ratings)"
   ]
  },
  {
   "cell_type": "code",
   "execution_count": 42,
   "metadata": {},
   "outputs": [],
   "source": [
    "#String templating - Python\n",
    "#s=f\"{a},{b},{c}\\n\"\n",
    "\n",
    "fieldNames = [\"Model\",\"Price\",\"Rating\"]\n",
    "rows = []\n",
    "\n",
    "with open (\"appleProducts.csv\",\"w\") as data:\n",
    "    data.write(f\"{fieldNames[0]},{fieldNames[1]},{fieldNames[2]}\\n\")\n",
    "    for i in range(24):\n",
    "        data.write(f\"{productNames[i]},{price[i]},{ratings[i]}\\n\")"
   ]
  },
  {
   "cell_type": "code",
   "execution_count": 137,
   "metadata": {},
   "outputs": [],
   "source": [
    "orderedProducts = []\n",
    "product = []\n",
    "newproduct = []\n",
    "newprice = 0\n",
    "with open(\"appleProducts.csv\",\"r+\") as data:\n",
    "    data.readline()\n",
    "    for i in range(24):\n",
    "        orderedProducts.append(data.readline())\n",
    "    for e in range(0,len(orderedProducts)):\n",
    "        newproduct1 = orderedProducts[e].split(\"\")\n",
    "        if (len(newproduct1)<=5):\n",
    "            newprice = newproduct1[2][1:len(newproduct1[2])]+newproduct1[3]\n",
    "        else:\n",
    "            newprice = newproduct1[3][1:len(newproduct1[3])]+newproduct1[4]\n",
    "\n",
    "        for j in range(e+1,len(orderedProducts)):\n",
    "           \n",
    "            newproduct2 = orderedProducts[j].split(\",\")\n",
    "            if (len(newproduct2)<=5):\n",
    "                checkprice = newproduct2[2][1:len(newproduct2[2])]+newproduct2[3]\n",
    "            else:\n",
    "                checkprice = newproduct2[3][1:len(newproduct2[3])]+newproduct2[4]\n",
    "           \n",
    "            if newprice<=checkprice:\n",
    "                product1 = orderedProducts[e]\n",
    "                product2 = orderedProducts[j]\n",
    "                orderedProducts[e] = product2\n",
    "                orderedProducts[j] = product1\n",
    "\n",
    "\n",
    "            \n",
    "        "
   ]
  },
  {
   "cell_type": "code",
   "execution_count": null,
   "metadata": {},
   "outputs": [],
   "source": []
  },
  {
   "cell_type": "code",
   "execution_count": null,
   "metadata": {},
   "outputs": [],
   "source": []
  },
  {
   "cell_type": "code",
   "execution_count": null,
   "metadata": {},
   "outputs": [],
   "source": []
  },
  {
   "cell_type": "code",
   "execution_count": null,
   "metadata": {},
   "outputs": [],
   "source": []
  }
 ],
 "metadata": {
  "kernelspec": {
   "display_name": "Python 3",
   "language": "python",
   "name": "python3"
  },
  "language_info": {
   "codemirror_mode": {
    "name": "ipython",
    "version": 3
   },
   "file_extension": ".py",
   "mimetype": "text/x-python",
   "name": "python",
   "nbconvert_exporter": "python",
   "pygments_lexer": "ipython3",
   "version": "3.8.8"
  }
 },
 "nbformat": 4,
 "nbformat_minor": 4
}
